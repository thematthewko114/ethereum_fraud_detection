{
 "cells": [
  {
   "cell_type": "code",
   "execution_count": null,
   "id": "2ff21900",
   "metadata": {},
   "outputs": [],
   "source": [
    "import requests\n",
    "import json"
   ]
  },
  {
   "cell_type": "code",
   "execution_count": null,
   "id": "5d55b905",
   "metadata": {},
   "outputs": [],
   "source": [
    "merged_df = pd.read_csv(\"merged_data.csv\")"
   ]
  },
  {
   "cell_type": "code",
   "execution_count": null,
   "id": "79da346b",
   "metadata": {},
   "outputs": [],
   "source": [
    "# get tnx data for all rows\n",
    "blockscout_base_url = 'https://eth.blockscout.com/api/v2/transactions'\n",
    "for i in range(len(df)):\n",
    "    txn_hash = df.iloc[i]['hash']\n",
    "    try:\n",
    "        req = requests.get(blockscout_base_url + '/' + txn_hash)\n",
    "        data = req.json()\n",
    "        print(\"completed row\", i)\n",
    "        with open('txn_data.json', 'a') as file:\n",
    "            x = json.dumps(data, indent=4)\n",
    "            file.write(x + '\\n')\n",
    "    except:\n",
    "        print(\"error at row\", i)"
   ]
  },
  {
   "cell_type": "code",
   "execution_count": null,
   "id": "d279df16",
   "metadata": {},
   "outputs": [],
   "source": [
    "all_addresses = pd.concat([merged_df['from_address'], merged_df['to_address']]).unique()\n",
    "# get tnx data for all rows\n",
    "blockscout_base_url = 'https://eth.blockscout.com/api/v2/addresses'\n",
    "for i in range(len(all_addresses)):\n",
    "    address = all_addresses[i]\n",
    "    try:\n",
    "        req = requests.get(blockscout_base_url + '/' + address)\n",
    "        data = req.json()\n",
    "        print(\"completed address\", i, \"out of\", len(all_addresses))\n",
    "        with open('addr_data.json', 'a') as file:\n",
    "            x = json.dumps(data, indent=4)\n",
    "            file.write(x + '\\n')\n",
    "    except:\n",
    "        print(\"error at row\", i)"
   ]
  }
 ],
 "metadata": {
  "kernelspec": {
   "display_name": "Python 3 (ipykernel)",
   "language": "python",
   "name": "python3"
  },
  "language_info": {
   "codemirror_mode": {
    "name": "ipython",
    "version": 3
   },
   "file_extension": ".py",
   "mimetype": "text/x-python",
   "name": "python",
   "nbconvert_exporter": "python",
   "pygments_lexer": "ipython3",
   "version": "3.10.9"
  }
 },
 "nbformat": 4,
 "nbformat_minor": 5
}
